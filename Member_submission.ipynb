{
 "cells": [
  {
   "cell_type": "code",
   "execution_count": 1,
   "id": "a1b4ae89",
   "metadata": {
    "_cell_guid": "b1076dfc-b9ad-4769-8c92-a6c4dae69d19",
    "_uuid": "8f2839f25d086af736a60e9eeb907d3b93b6e0e5",
    "execution": {
     "iopub.execute_input": "2022-05-15T00:10:58.127316Z",
     "iopub.status.busy": "2022-05-15T00:10:58.126654Z",
     "iopub.status.idle": "2022-05-15T00:10:58.145638Z",
     "shell.execute_reply": "2022-05-15T00:10:58.144583Z"
    },
    "papermill": {
     "duration": 0.032815,
     "end_time": "2022-05-15T00:10:58.149346",
     "exception": false,
     "start_time": "2022-05-15T00:10:58.116531",
     "status": "completed"
    },
    "tags": []
   },
   "outputs": [
    {
     "name": "stdout",
     "output_type": "stream",
     "text": [
      "/kaggle/input/member-assignment/Member_assignment.xlsx\n"
     ]
    }
   ],
   "source": [
    "import numpy as np \n",
    "import pandas as pd \n",
    "import datetime\n",
    "import os\n",
    "for dirname, _, filenames in os.walk('/kaggle/input'):\n",
    "    for filename in filenames:\n",
    "        print(os.path.join(dirname, filename))"
   ]
  },
  {
   "cell_type": "code",
   "execution_count": 2,
   "id": "8219aa82",
   "metadata": {
    "execution": {
     "iopub.execute_input": "2022-05-15T00:10:58.167028Z",
     "iopub.status.busy": "2022-05-15T00:10:58.166527Z",
     "iopub.status.idle": "2022-05-15T00:11:13.484787Z",
     "shell.execute_reply": "2022-05-15T00:11:13.483632Z"
    },
    "papermill": {
     "duration": 15.329153,
     "end_time": "2022-05-15T00:11:13.487167",
     "exception": false,
     "start_time": "2022-05-15T00:10:58.158014",
     "status": "completed"
    },
    "tags": []
   },
   "outputs": [
    {
     "name": "stdout",
     "output_type": "stream",
     "text": [
      "Collecting openpyxl\r\n",
      "  Downloading openpyxl-3.0.9-py2.py3-none-any.whl (242 kB)\r\n",
      "\u001b[2K     \u001b[90m━━━━━━━━━━━━━━━━━━━━━━━━━━━━━━━━━━━━━━━\u001b[0m \u001b[32m242.2/242.2 KB\u001b[0m \u001b[31m1.3 MB/s\u001b[0m eta \u001b[36m0:00:00\u001b[0m\r\n",
      "\u001b[?25hCollecting et-xmlfile\r\n",
      "  Downloading et_xmlfile-1.1.0-py3-none-any.whl (4.7 kB)\r\n",
      "Installing collected packages: et-xmlfile, openpyxl\r\n",
      "Successfully installed et-xmlfile-1.1.0 openpyxl-3.0.9\r\n",
      "\u001b[33mWARNING: Running pip as the 'root' user can result in broken permissions and conflicting behaviour with the system package manager. It is recommended to use a virtual environment instead: https://pip.pypa.io/warnings/venv\u001b[0m\u001b[33m\r\n",
      "\u001b[0mNote: you may need to restart the kernel to use updated packages.\n"
     ]
    }
   ],
   "source": [
    "pip install openpyxl   "
   ]
  },
  {
   "cell_type": "code",
   "execution_count": 3,
   "id": "06280d52",
   "metadata": {
    "execution": {
     "iopub.execute_input": "2022-05-15T00:11:13.512173Z",
     "iopub.status.busy": "2022-05-15T00:11:13.511828Z",
     "iopub.status.idle": "2022-05-15T00:11:13.930431Z",
     "shell.execute_reply": "2022-05-15T00:11:13.928995Z"
    },
    "papermill": {
     "duration": 0.434314,
     "end_time": "2022-05-15T00:11:13.933371",
     "exception": false,
     "start_time": "2022-05-15T00:11:13.499057",
     "status": "completed"
    },
    "tags": []
   },
   "outputs": [
    {
     "data": {
      "text/html": [
       "<div>\n",
       "<style scoped>\n",
       "    .dataframe tbody tr th:only-of-type {\n",
       "        vertical-align: middle;\n",
       "    }\n",
       "\n",
       "    .dataframe tbody tr th {\n",
       "        vertical-align: top;\n",
       "    }\n",
       "\n",
       "    .dataframe thead th {\n",
       "        text-align: right;\n",
       "    }\n",
       "</style>\n",
       "<table border=\"1\" class=\"dataframe\">\n",
       "  <thead>\n",
       "    <tr style=\"text-align: right;\">\n",
       "      <th></th>\n",
       "      <th>MemberID</th>\n",
       "      <th>Elig_start</th>\n",
       "      <th>Elig_end</th>\n",
       "    </tr>\n",
       "  </thead>\n",
       "  <tbody>\n",
       "    <tr>\n",
       "      <th>0</th>\n",
       "      <td>1</td>\n",
       "      <td>2014-01-01</td>\n",
       "      <td>9/25/2014</td>\n",
       "    </tr>\n",
       "    <tr>\n",
       "      <th>1</th>\n",
       "      <td>2</td>\n",
       "      <td>2014-01-01</td>\n",
       "      <td>12/31/9999</td>\n",
       "    </tr>\n",
       "    <tr>\n",
       "      <th>2</th>\n",
       "      <td>3</td>\n",
       "      <td>2012-01-01</td>\n",
       "      <td>12/31/2013</td>\n",
       "    </tr>\n",
       "  </tbody>\n",
       "</table>\n",
       "</div>"
      ],
      "text/plain": [
       "   MemberID Elig_start    Elig_end\n",
       "0         1 2014-01-01   9/25/2014\n",
       "1         2 2014-01-01  12/31/9999\n",
       "2         3 2012-01-01  12/31/2013"
      ]
     },
     "execution_count": 3,
     "metadata": {},
     "output_type": "execute_result"
    }
   ],
   "source": [
    "df = pd.read_excel('/kaggle/input/member-assignment/Member_assignment.xlsx')\n",
    "df.head()"
   ]
  },
  {
   "cell_type": "code",
   "execution_count": 4,
   "id": "39611538",
   "metadata": {
    "execution": {
     "iopub.execute_input": "2022-05-15T00:11:13.959254Z",
     "iopub.status.busy": "2022-05-15T00:11:13.958935Z",
     "iopub.status.idle": "2022-05-15T00:11:13.986069Z",
     "shell.execute_reply": "2022-05-15T00:11:13.984978Z"
    },
    "papermill": {
     "duration": 0.043231,
     "end_time": "2022-05-15T00:11:13.988360",
     "exception": false,
     "start_time": "2022-05-15T00:11:13.945129",
     "status": "completed"
    },
    "tags": []
   },
   "outputs": [],
   "source": [
    "df['Elig_end'] = pd.to_datetime(df['Elig_end'], errors = 'coerce')\n",
    "df=df.replace({pd.NaT: None})\n",
    "compare=[]\n",
    "for i in range (1,13):\n",
    "    compare.append (datetime.datetime(2014, i, 15))\n",
    "\n",
    "df_new = pd.DataFrame()\n",
    "df_new['compare'] = pd.Series(compare)\n",
    "df_new['compare'] = pd.to_datetime(df_new['compare'])\n",
    "\n",
    "elig = df['Elig_end'].tolist()\n",
    "our_date = df_new['compare'].tolist()"
   ]
  },
  {
   "cell_type": "code",
   "execution_count": 5,
   "id": "b609726f",
   "metadata": {
    "execution": {
     "iopub.execute_input": "2022-05-15T00:11:14.013546Z",
     "iopub.status.busy": "2022-05-15T00:11:14.013250Z",
     "iopub.status.idle": "2022-05-15T00:11:14.031094Z",
     "shell.execute_reply": "2022-05-15T00:11:14.027949Z"
    },
    "papermill": {
     "duration": 0.043981,
     "end_time": "2022-05-15T00:11:14.043990",
     "exception": false,
     "start_time": "2022-05-15T00:11:14.000009",
     "status": "completed"
    },
    "tags": []
   },
   "outputs": [
    {
     "name": "stdout",
     "output_type": "stream",
     "text": [
      "In the month 1\n",
      "Patient 1 is eligible\n",
      "Patient 2 is eligible\n",
      "Patient 3 is not eligible\n",
      "--------------------------------------\n",
      "\n",
      "In the month 2\n",
      "Patient 1 is eligible\n",
      "Patient 2 is eligible\n",
      "Patient 3 is not eligible\n",
      "--------------------------------------\n",
      "\n",
      "In the month 3\n",
      "Patient 1 is eligible\n",
      "Patient 2 is eligible\n",
      "Patient 3 is not eligible\n",
      "--------------------------------------\n",
      "\n",
      "In the month 4\n",
      "Patient 1 is eligible\n",
      "Patient 2 is eligible\n",
      "Patient 3 is not eligible\n",
      "--------------------------------------\n",
      "\n",
      "In the month 5\n",
      "Patient 1 is eligible\n",
      "Patient 2 is eligible\n",
      "Patient 3 is not eligible\n",
      "--------------------------------------\n",
      "\n",
      "In the month 6\n",
      "Patient 1 is eligible\n",
      "Patient 2 is eligible\n",
      "Patient 3 is not eligible\n",
      "--------------------------------------\n",
      "\n",
      "In the month 7\n",
      "Patient 1 is eligible\n",
      "Patient 2 is eligible\n",
      "Patient 3 is not eligible\n",
      "--------------------------------------\n",
      "\n",
      "In the month 8\n",
      "Patient 1 is eligible\n",
      "Patient 2 is eligible\n",
      "Patient 3 is not eligible\n",
      "--------------------------------------\n",
      "\n",
      "In the month 9\n",
      "Patient 1 is eligible\n",
      "Patient 2 is eligible\n",
      "Patient 3 is not eligible\n",
      "--------------------------------------\n",
      "\n",
      "In the month 10\n",
      "Patient 1 is not eligible\n",
      "Patient 2 is eligible\n",
      "Patient 3 is not eligible\n",
      "--------------------------------------\n",
      "\n",
      "In the month 11\n",
      "Patient 1 is not eligible\n",
      "Patient 2 is eligible\n",
      "Patient 3 is not eligible\n",
      "--------------------------------------\n",
      "\n",
      "In the month 12\n",
      "Patient 1 is not eligible\n",
      "Patient 2 is eligible\n",
      "Patient 3 is not eligible\n",
      "--------------------------------------\n",
      "\n"
     ]
    }
   ],
   "source": [
    "a = df.shape[0] \n",
    "b = df_new.shape[0]\n",
    "for i in range (b):\n",
    "    print ('In the month', i+1)\n",
    "    \n",
    "    for j in range (a):\n",
    "        if elig[j] == None:\n",
    "            print ('Patient',j+1, 'is eligible')\n",
    "        elif our_date[i] <= elig[j]:\n",
    "            print ('Patient',j+1, 'is eligible')\n",
    "        else:\n",
    "            print ('Patient',j+1, 'is not eligible')\n",
    "    \n",
    "    print ('--------------------------------------')\n",
    "    print ('')"
   ]
  }
 ],
 "metadata": {
  "kernelspec": {
   "display_name": "Python 3",
   "language": "python",
   "name": "python3"
  },
  "language_info": {
   "codemirror_mode": {
    "name": "ipython",
    "version": 3
   },
   "file_extension": ".py",
   "mimetype": "text/x-python",
   "name": "python",
   "nbconvert_exporter": "python",
   "pygments_lexer": "ipython3",
   "version": "3.7.12"
  },
  "papermill": {
   "default_parameters": {},
   "duration": 29.700019,
   "end_time": "2022-05-15T00:11:14.880393",
   "environment_variables": {},
   "exception": null,
   "input_path": "__notebook__.ipynb",
   "output_path": "__notebook__.ipynb",
   "parameters": {},
   "start_time": "2022-05-15T00:10:45.180374",
   "version": "2.3.4"
  }
 },
 "nbformat": 4,
 "nbformat_minor": 5
}

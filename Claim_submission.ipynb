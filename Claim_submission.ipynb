{
 "cells": [
  {
   "cell_type": "code",
   "execution_count": 1,
   "id": "8a89fa09",
   "metadata": {
    "_cell_guid": "b1076dfc-b9ad-4769-8c92-a6c4dae69d19",
    "_uuid": "8f2839f25d086af736a60e9eeb907d3b93b6e0e5",
    "execution": {
     "iopub.execute_input": "2022-05-15T00:02:22.930855Z",
     "iopub.status.busy": "2022-05-15T00:02:22.930176Z",
     "iopub.status.idle": "2022-05-15T00:02:22.946470Z",
     "shell.execute_reply": "2022-05-15T00:02:22.945788Z"
    },
    "papermill": {
     "duration": 0.029431,
     "end_time": "2022-05-15T00:02:22.948891",
     "exception": false,
     "start_time": "2022-05-15T00:02:22.919460",
     "status": "completed"
    },
    "tags": []
   },
   "outputs": [
    {
     "name": "stdout",
     "output_type": "stream",
     "text": [
      "/kaggle/input/claim-assignment/claim_assignment.xlsx\n"
     ]
    }
   ],
   "source": [
    "import numpy as np \n",
    "import pandas as pd \n",
    "import os\n",
    "for dirname, _, filenames in os.walk('/kaggle/input'):\n",
    "    for filename in filenames:\n",
    "        print(os.path.join(dirname, filename))"
   ]
  },
  {
   "cell_type": "code",
   "execution_count": 2,
   "id": "0de38865",
   "metadata": {
    "execution": {
     "iopub.execute_input": "2022-05-15T00:02:22.967608Z",
     "iopub.status.busy": "2022-05-15T00:02:22.967053Z",
     "iopub.status.idle": "2022-05-15T00:02:36.651156Z",
     "shell.execute_reply": "2022-05-15T00:02:36.650036Z"
    },
    "papermill": {
     "duration": 13.695709,
     "end_time": "2022-05-15T00:02:36.653406",
     "exception": false,
     "start_time": "2022-05-15T00:02:22.957697",
     "status": "completed"
    },
    "tags": []
   },
   "outputs": [
    {
     "name": "stdout",
     "output_type": "stream",
     "text": [
      "Collecting openpyxl\r\n",
      "  Downloading openpyxl-3.0.9-py2.py3-none-any.whl (242 kB)\r\n",
      "\u001b[2K     \u001b[90m━━━━━━━━━━━━━━━━━━━━━━━━━━━━━━━━━━━━━━━\u001b[0m \u001b[32m242.2/242.2 KB\u001b[0m \u001b[31m1.3 MB/s\u001b[0m eta \u001b[36m0:00:00\u001b[0m\r\n",
      "\u001b[?25hCollecting et-xmlfile\r\n",
      "  Downloading et_xmlfile-1.1.0-py3-none-any.whl (4.7 kB)\r\n",
      "Installing collected packages: et-xmlfile, openpyxl\r\n",
      "Successfully installed et-xmlfile-1.1.0 openpyxl-3.0.9\r\n",
      "\u001b[33mWARNING: Running pip as the 'root' user can result in broken permissions and conflicting behaviour with the system package manager. It is recommended to use a virtual environment instead: https://pip.pypa.io/warnings/venv\u001b[0m\u001b[33m\r\n",
      "\u001b[0mNote: you may need to restart the kernel to use updated packages.\n"
     ]
    }
   ],
   "source": [
    "pip install openpyxl   "
   ]
  },
  {
   "cell_type": "code",
   "execution_count": 3,
   "id": "2cecbc7c",
   "metadata": {
    "execution": {
     "iopub.execute_input": "2022-05-15T00:02:36.680497Z",
     "iopub.status.busy": "2022-05-15T00:02:36.680133Z",
     "iopub.status.idle": "2022-05-15T00:02:37.075494Z",
     "shell.execute_reply": "2022-05-15T00:02:37.074536Z"
    },
    "papermill": {
     "duration": 0.411752,
     "end_time": "2022-05-15T00:02:37.077575",
     "exception": false,
     "start_time": "2022-05-15T00:02:36.665823",
     "status": "completed"
    },
    "tags": []
   },
   "outputs": [
    {
     "data": {
      "text/html": [
       "<div>\n",
       "<style scoped>\n",
       "    .dataframe tbody tr th:only-of-type {\n",
       "        vertical-align: middle;\n",
       "    }\n",
       "\n",
       "    .dataframe tbody tr th {\n",
       "        vertical-align: top;\n",
       "    }\n",
       "\n",
       "    .dataframe thead th {\n",
       "        text-align: right;\n",
       "    }\n",
       "</style>\n",
       "<table border=\"1\" class=\"dataframe\">\n",
       "  <thead>\n",
       "    <tr style=\"text-align: right;\">\n",
       "      <th></th>\n",
       "      <th>MemberID</th>\n",
       "      <th>ClaimNo</th>\n",
       "      <th>LineNo</th>\n",
       "      <th>Bill_Type</th>\n",
       "      <th>Paid_Status</th>\n",
       "      <th>From_date</th>\n",
       "      <th>Thru_date</th>\n",
       "      <th>Revenue_cod</th>\n",
       "      <th>Allowed</th>\n",
       "      <th>Paid</th>\n",
       "    </tr>\n",
       "  </thead>\n",
       "  <tbody>\n",
       "    <tr>\n",
       "      <th>0</th>\n",
       "      <td>1</td>\n",
       "      <td>1</td>\n",
       "      <td>1</td>\n",
       "      <td>111</td>\n",
       "      <td>P</td>\n",
       "      <td>2014-01-04</td>\n",
       "      <td>2014-01-05</td>\n",
       "      <td>120</td>\n",
       "      <td>20000.0</td>\n",
       "      <td>19000.0</td>\n",
       "    </tr>\n",
       "    <tr>\n",
       "      <th>1</th>\n",
       "      <td>1</td>\n",
       "      <td>1</td>\n",
       "      <td>2</td>\n",
       "      <td>111</td>\n",
       "      <td>P</td>\n",
       "      <td>2014-01-04</td>\n",
       "      <td>2014-01-05</td>\n",
       "      <td>250</td>\n",
       "      <td>1000.0</td>\n",
       "      <td>1000.0</td>\n",
       "    </tr>\n",
       "    <tr>\n",
       "      <th>2</th>\n",
       "      <td>1</td>\n",
       "      <td>2</td>\n",
       "      <td>1</td>\n",
       "      <td>211</td>\n",
       "      <td>P</td>\n",
       "      <td>2014-01-05</td>\n",
       "      <td>2014-01-15</td>\n",
       "      <td>120</td>\n",
       "      <td>4000.0</td>\n",
       "      <td>4000.0</td>\n",
       "    </tr>\n",
       "    <tr>\n",
       "      <th>3</th>\n",
       "      <td>2</td>\n",
       "      <td>3</td>\n",
       "      <td>1</td>\n",
       "      <td>111</td>\n",
       "      <td>D</td>\n",
       "      <td>2014-02-01</td>\n",
       "      <td>2014-02-05</td>\n",
       "      <td>120</td>\n",
       "      <td>NaN</td>\n",
       "      <td>NaN</td>\n",
       "    </tr>\n",
       "    <tr>\n",
       "      <th>4</th>\n",
       "      <td>2</td>\n",
       "      <td>4</td>\n",
       "      <td>1</td>\n",
       "      <td>111</td>\n",
       "      <td>P</td>\n",
       "      <td>2014-02-01</td>\n",
       "      <td>2014-02-04</td>\n",
       "      <td>111</td>\n",
       "      <td>10000.0</td>\n",
       "      <td>10000.0</td>\n",
       "    </tr>\n",
       "  </tbody>\n",
       "</table>\n",
       "</div>"
      ],
      "text/plain": [
       "   MemberID  ClaimNo  LineNo  Bill_Type Paid_Status  From_date  Thru_date  \\\n",
       "0         1        1       1        111           P 2014-01-04 2014-01-05   \n",
       "1         1        1       2        111           P 2014-01-04 2014-01-05   \n",
       "2         1        2       1        211           P 2014-01-05 2014-01-15   \n",
       "3         2        3       1        111           D 2014-02-01 2014-02-05   \n",
       "4         2        4       1        111           P 2014-02-01 2014-02-04   \n",
       "\n",
       "   Revenue_cod  Allowed     Paid  \n",
       "0          120  20000.0  19000.0  \n",
       "1          250   1000.0   1000.0  \n",
       "2          120   4000.0   4000.0  \n",
       "3          120      NaN      NaN  \n",
       "4          111  10000.0  10000.0  "
      ]
     },
     "execution_count": 3,
     "metadata": {},
     "output_type": "execute_result"
    }
   ],
   "source": [
    "df = pd.read_excel('/kaggle/input/claim-assignment/claim_assignment.xlsx')\n",
    "df.head()"
   ]
  },
  {
   "cell_type": "code",
   "execution_count": 4,
   "id": "0d5f6eff",
   "metadata": {
    "execution": {
     "iopub.execute_input": "2022-05-15T00:02:37.105535Z",
     "iopub.status.busy": "2022-05-15T00:02:37.105220Z",
     "iopub.status.idle": "2022-05-15T00:02:37.126889Z",
     "shell.execute_reply": "2022-05-15T00:02:37.125838Z"
    },
    "papermill": {
     "duration": 0.038397,
     "end_time": "2022-05-15T00:02:37.129065",
     "exception": false,
     "start_time": "2022-05-15T00:02:37.090668",
     "status": "completed"
    },
    "tags": []
   },
   "outputs": [],
   "source": [
    "df['From_date'] = pd.to_datetime(df['From_date'], errors = 'coerce')\n",
    "df['Thru_date'] = pd.to_datetime(df['Thru_date'], errors = 'coerce')\n",
    "df = df[df['Paid_Status'] != 'D']\n",
    "df = df[df['Bill_Type'] == 111]\n",
    "df['diff'] = df['Thru_date'] - df['From_date']\n",
    "df['duration'] = (df['Thru_date'] - df['From_date'])/np.timedelta64(1, 'M')\n",
    "df = df.reset_index()"
   ]
  },
  {
   "cell_type": "code",
   "execution_count": 5,
   "id": "985f7848",
   "metadata": {
    "execution": {
     "iopub.execute_input": "2022-05-15T00:02:37.156925Z",
     "iopub.status.busy": "2022-05-15T00:02:37.156645Z",
     "iopub.status.idle": "2022-05-15T00:02:37.187436Z",
     "shell.execute_reply": "2022-05-15T00:02:37.186414Z"
    },
    "papermill": {
     "duration": 0.047837,
     "end_time": "2022-05-15T00:02:37.189842",
     "exception": false,
     "start_time": "2022-05-15T00:02:37.142005",
     "status": "completed"
    },
    "tags": []
   },
   "outputs": [],
   "source": [
    "def concat(df):\n",
    "    df_new = pd.DataFrame(columns = ['MemberID', 'From_date', 'Thru_date', 'diff', 'Paid', 'duration'])\n",
    "    \n",
    "    i=0\n",
    "    while i<df.shape[0]:\n",
    "        j=i\n",
    "        final_paid=0\n",
    "        while (df.loc[i].at[\"MemberID\"]== df.loc[j].at[\"MemberID\"] and df.loc[i].at[\"From_date\"]<=df.loc[j].at[\"From_date\"] and df.loc[i].at[\"Thru_date\"]>=df.loc[j].at[\"Thru_date\"]):\n",
    "            final_paid+=df.loc[j].at['Paid']\n",
    "\n",
    "            j+=1\n",
    "            if j==df.shape[0]:\n",
    "                break\n",
    "        \n",
    "        df_new=df_new.append({'MemberID': df.loc[i].at[\"MemberID\"],'From_date': df.loc[i].at[\"From_date\"], 'Thru_date': df.loc[i].at[\"Thru_date\"], 'diff': df.loc[i].at[\"diff\"], 'Paid': final_paid, 'duration': df.loc[i].at[\"duration\"]},ignore_index = True)\n",
    "        i=i+j\n",
    "    return(df_new)\n",
    "\n",
    "df_new= concat(df)"
   ]
  },
  {
   "cell_type": "code",
   "execution_count": 6,
   "id": "9f538d01",
   "metadata": {
    "execution": {
     "iopub.execute_input": "2022-05-15T00:02:37.216979Z",
     "iopub.status.busy": "2022-05-15T00:02:37.216695Z",
     "iopub.status.idle": "2022-05-15T00:02:37.229115Z",
     "shell.execute_reply": "2022-05-15T00:02:37.228500Z"
    },
    "papermill": {
     "duration": 0.028957,
     "end_time": "2022-05-15T00:02:37.231600",
     "exception": false,
     "start_time": "2022-05-15T00:02:37.202643",
     "status": "completed"
    },
    "tags": []
   },
   "outputs": [
    {
     "name": "stdout",
     "output_type": "stream",
     "text": [
      "For patient 1 the average inpatient paid dollars for the duration 2014-01-04 00:00:00 to 2014-01-05 00:00:00 is $ 578300.625\n",
      "\n",
      "For patient 2 the average inpatient paid dollars for the duration 2014-02-01 00:00:00 to 2014-02-04 00:00:00 is $ 30436.875\n",
      "\n"
     ]
    }
   ],
   "source": [
    "df_new['Final'] = df['Paid']/df['duration']\n",
    "for i in range (df_new.shape[0]):\n",
    "    print('For patient',i+1, 'the average inpatient paid dollars for the duration', df_new.loc[i].at['From_date'], 'to',df_new.loc[i].at['Thru_date'],'is $', df_new.loc[i].at['Final'])\n",
    "    print('')"
   ]
  }
 ],
 "metadata": {
  "kernelspec": {
   "display_name": "Python 3",
   "language": "python",
   "name": "python3"
  },
  "language_info": {
   "codemirror_mode": {
    "name": "ipython",
    "version": 3
   },
   "file_extension": ".py",
   "mimetype": "text/x-python",
   "name": "python",
   "nbconvert_exporter": "python",
   "pygments_lexer": "ipython3",
   "version": "3.7.12"
  },
  "papermill": {
   "default_parameters": {},
   "duration": 25.932058,
   "end_time": "2022-05-15T00:02:37.965192",
   "environment_variables": {},
   "exception": null,
   "input_path": "__notebook__.ipynb",
   "output_path": "__notebook__.ipynb",
   "parameters": {},
   "start_time": "2022-05-15T00:02:12.033134",
   "version": "2.3.4"
  }
 },
 "nbformat": 4,
 "nbformat_minor": 5
}
